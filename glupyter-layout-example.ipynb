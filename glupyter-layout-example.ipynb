{
 "cells": [
  {
   "cell_type": "code",
   "execution_count": 3,
   "metadata": {},
   "outputs": [],
   "source": [
    "import ipyvuetify as v\n"
   ]
  },
  {
   "cell_type": "code",
   "execution_count": 4,
   "metadata": {},
   "outputs": [
    {
     "data": {
      "application/vnd.jupyter.widget-view+json": {
       "model_id": "fe7ebbde8bb6492082ff151e747300a9",
       "version_major": 2,
       "version_minor": 0
      },
      "text/plain": [
       "Html(children=[Html(children=[Btn(children=['top left'], class_='ma-2'), Btn(children=['bottom left'], class_=…"
      ]
     },
     "metadata": {},
     "output_type": "display_data"
    }
   ],
   "source": [
    "v.Html(tag='div', class_='d-flex flex-row', children=[\n",
    "    v.Html(tag='div', class_='d-flex flex-column', children=[\n",
    "        v.Btn(class_='ma-2', children=['top left']),\n",
    "        v.Btn(class_='ma-2', children=['bottom left'])\n",
    "    ]),\n",
    "    v.Html(tag='div', class_='d-flex flex-column', children=[\n",
    "        v.Btn(class_='ma-2', children=['top right']),\n",
    "        v.Btn(class_='ma-2', children=['bottom right'])\n",
    "    ]),\n",
    "])"
   ]
  },
  {
   "cell_type": "markdown",
   "metadata": {},
   "source": [
    "# glue-jupyter\n",
    "\n",
    "Example glue-jupyter web application with penguins dataset, using voilà to convert a Jupyter notebook widgets into a standalone page."
   ]
  },
  {
   "cell_type": "code",
   "execution_count": 5,
   "metadata": {},
   "outputs": [
    {
     "name": "stderr",
     "output_type": "stream",
     "text": [
      "/Users/jfoster/anaconda3/envs/glupyter/lib/python3.8/site-packages/glue/external/echo/__init__.py:3: UserWarning: glue.external.echo is deprecated, import from echo directly instead\n",
      "  warnings.warn('glue.external.echo is deprecated, import from echo directly instead')\n"
     ]
    }
   ],
   "source": [
    "import glue_jupyter as gj"
   ]
  },
  {
   "cell_type": "code",
   "execution_count": 6,
   "metadata": {},
   "outputs": [],
   "source": [
    "app = gj.jglue()\n",
    "penguins = app.load_data('penguins.csv')"
   ]
  },
  {
   "cell_type": "code",
   "execution_count": 7,
   "metadata": {},
   "outputs": [],
   "source": [
    "_ = app.data_collection.new_subset_group('adelie',penguins.id['species']=='Adelie')\n",
    "_ = app.data_collection.new_subset_group('chinstrap',penguins.id['species']=='Chinstrap')\n",
    "_ = app.data_collection.new_subset_group('gentoo',penguins.id['species']=='Gentoo')"
   ]
  },
  {
   "cell_type": "code",
   "execution_count": 8,
   "metadata": {},
   "outputs": [
    {
     "data": {
      "application/vnd.jupyter.widget-view+json": {
       "model_id": "61ca82f2d43543f8a191b7a4665fc1b8",
       "version_major": 2,
       "version_minor": 0
      },
      "text/plain": [
       "Html(children=[Toolbar(children=[ToolbarItems(children=[BasicJupyterToolbar(children=[Tooltip(bottom=True, chi…"
      ]
     },
     "metadata": {},
     "output_type": "display_data"
    }
   ],
   "source": [
    "s1 = app.scatter2d(data = penguins,x='body_mass_g',y='bill_length_mm')"
   ]
  },
  {
   "cell_type": "code",
   "execution_count": 9,
   "metadata": {},
   "outputs": [
    {
     "data": {
      "application/vnd.jupyter.widget-view+json": {
       "model_id": "36a400bcd33c4471aa0b68ad78185a98",
       "version_major": 2,
       "version_minor": 0
      },
      "text/plain": [
       "Html(children=[Toolbar(children=[ToolbarItems(children=[BasicJupyterToolbar(children=[Tooltip(bottom=True, chi…"
      ]
     },
     "metadata": {},
     "output_type": "display_data"
    }
   ],
   "source": [
    "s2 = app.histogram1d(data = penguins, x='bill_depth_mm')"
   ]
  },
  {
   "cell_type": "code",
   "execution_count": 10,
   "metadata": {},
   "outputs": [
    {
     "data": {
      "application/vnd.jupyter.widget-view+json": {
       "model_id": "774a0a6da9f04aa380e715f6749785d0",
       "version_major": 2,
       "version_minor": 0
      },
      "text/plain": [
       "Html(children=[Toolbar(children=[ToolbarItems(children=[BasicJupyterToolbar(class_='transparent', v_model=None…"
      ]
     },
     "metadata": {},
     "output_type": "display_data"
    }
   ],
   "source": [
    "s3 = app.table(data = penguins)"
   ]
  },
  {
   "cell_type": "code",
   "execution_count": null,
   "metadata": {},
   "outputs": [],
   "source": []
  }
 ],
 "metadata": {
  "kernelspec": {
   "display_name": "Python 3",
   "language": "python",
   "name": "python3"
  },
  "language_info": {
   "codemirror_mode": {
    "name": "ipython",
    "version": 3
   },
   "file_extension": ".py",
   "mimetype": "text/x-python",
   "name": "python",
   "nbconvert_exporter": "python",
   "pygments_lexer": "ipython3",
   "version": "3.8.5"
  }
 },
 "nbformat": 4,
 "nbformat_minor": 2
}
